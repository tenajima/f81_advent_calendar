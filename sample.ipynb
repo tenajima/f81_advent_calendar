{
 "cells": [
  {
   "cell_type": "code",
   "execution_count": 28,
   "metadata": {},
   "outputs": [],
   "source": [
    "import pickle\n",
    "import random\n",
    "from itertools import combinations\n",
    "\n",
    "import networkx as nx\n",
    "import pandas as pd\n",
    "import requests\n",
    "from gensim.models import Word2Vec\n",
    "from numpy.random import choice\n",
    "from tqdm import tqdm"
   ]
  },
  {
   "cell_type": "code",
   "execution_count": 2,
   "metadata": {},
   "outputs": [],
   "source": [
    "ACCESS_TOKEN = \"xxxxxxxx YOUR ACCESS TOKEN xxxxxxxxxxxxx\""
   ]
  },
  {
   "cell_type": "code",
   "execution_count": 3,
   "metadata": {},
   "outputs": [
    {
     "name": "stderr",
     "output_type": "stream",
     "text": [
      "100%|██████████| 100/100 [02:20<00:00,  1.41s/it]\n"
     ]
    }
   ],
   "source": [
    "result = []\n",
    "for page in tqdm(range(100)):\n",
    "    url = f\"https://qiita.com/api/v2/items?page={page + 1}&per_page=100\"\n",
    "    res = requests.get(url, headers={\"Authorization\": ACCESS_TOKEN}).json()\n",
    "\n",
    "    tags = [content['tags'] for content in res]\n",
    "\n",
    "    tmp_result = []\n",
    "    for tag in tags:\n",
    "        tmp_result.append([skill['name'].lower() for skill in tag])\n",
    "    result = result + tmp_result"
   ]
  },
  {
   "cell_type": "code",
   "execution_count": 5,
   "metadata": {},
   "outputs": [
    {
     "data": {
      "text/plain": [
       "[['aws', 'adventcalendar', 'apigateway', 'chalice', 'adventcalendar2020'],\n",
       " ['atcoder', 'elixir', '競技プログラミング', 'atcoderbeginnersselection'],\n",
       " ['dart'],\n",
       " ['linux', 'setting'],\n",
       " ['python']]"
      ]
     },
     "execution_count": 5,
     "metadata": {},
     "output_type": "execute_result"
    }
   ],
   "source": [
    "result[:5]"
   ]
  },
  {
   "cell_type": "code",
   "execution_count": 19,
   "metadata": {},
   "outputs": [],
   "source": [
    "graph = nx.Graph()\n",
    "\n",
    "for lst in result:\n",
    "    graph.add_edges_from(list(combinations(lst, 2)))"
   ]
  },
  {
   "cell_type": "code",
   "execution_count": 31,
   "metadata": {},
   "outputs": [],
   "source": [
    " def make_random_walks(G: nx.Graph, num_of_walk: int, length_of_walk: int):\n",
    "    \"\"\"\n",
    "    ランダムウォークによってタグのシーケンスを取得するよ\n",
    "    Args:\n",
    "        G (nx.Graph): 同一記事のタグをつないだ無向グラフ\n",
    "        num_of_walk (int): 各ノードに関して何回サンプリングを行うかの数\n",
    "        length_of_walk (int): 1回のサンプリングの際にどれだけ歩かせるか\n",
    "    \"\"\"\n",
    "    walks = list()\n",
    "    for _ in tqdm(range(num_of_walk), total=num_of_walk):\n",
    "        node_list = list(G.nodes())\n",
    "        for node in node_list:\n",
    "            now_node = node\n",
    "            walk = list()\n",
    "            walk.append(str(node))\n",
    "            for _ in range(length_of_walk):\n",
    "                try:\n",
    "                    neighbors = list(G.neighbors(now_node))\n",
    "                    if not neighbors:\n",
    "                        break\n",
    "                    next_node = choice(neighbors)\n",
    "                except IndexError:\n",
    "                    break\n",
    "                walk.append(str(next_node))\n",
    "                now_node = next_node\n",
    "            walks.append(walk)\n",
    "    return walks"
   ]
  },
  {
   "cell_type": "code",
   "execution_count": 32,
   "metadata": {},
   "outputs": [
    {
     "name": "stderr",
     "output_type": "stream",
     "text": [
      "100%|██████████| 100/100 [04:16<00:00,  2.56s/it]\n"
     ]
    }
   ],
   "source": [
    "walks = make_random_walks(graph, 100, 20)"
   ]
  },
  {
   "cell_type": "markdown",
   "metadata": {},
   "source": [
    "# word2vecの学習"
   ]
  },
  {
   "cell_type": "code",
   "execution_count": 33,
   "metadata": {},
   "outputs": [],
   "source": [
    "model = Word2Vec(walks,  sg=1, size=100, window=5, min_count=1, workers=8)"
   ]
  },
  {
   "cell_type": "code",
   "execution_count": 55,
   "metadata": {},
   "outputs": [
    {
     "data": {
      "text/plain": [
       "['pymagnitude',\n",
       " 'randomforest',\n",
       " 'shade3d',\n",
       " '自分用',\n",
       " 'magicpod',\n",
       " 'robotframework',\n",
       " '内包表記',\n",
       " 'リスト',\n",
       " 'youtube-dl',\n",
       " 'pythonで作る対話システム']"
      ]
     },
     "execution_count": 55,
     "metadata": {},
     "output_type": "execute_result"
    }
   ],
   "source": [
    "[tpl[0] for tpl in model.wv.most_similar('python')]"
   ]
  },
  {
   "cell_type": "code",
   "execution_count": 60,
   "metadata": {},
   "outputs": [
    {
     "data": {
      "text/plain": [
       "['azuremonitor',\n",
       " 'azurepurview',\n",
       " 'azurepowershell',\n",
       " 'applicationinsights',\n",
       " 'webジョブ',\n",
       " 'azuremediaservices',\n",
       " 'synapseanalytics',\n",
       " 'botframeworkcomposer',\n",
       " 'managedidentity',\n",
       " 'luis']"
      ]
     },
     "execution_count": 60,
     "metadata": {},
     "output_type": "execute_result"
    }
   ],
   "source": [
    "[tpl[0] for tpl in model.wv.most_similar('azure')]"
   ]
  },
  {
   "cell_type": "code",
   "execution_count": 57,
   "metadata": {},
   "outputs": [
    {
     "data": {
      "text/plain": [
       "['確率補正',\n",
       " 'calibration',\n",
       " 'isotonicregression',\n",
       " 'pavアルゴリズム',\n",
       " '交互作用',\n",
       " '特徴量エンジニアリング',\n",
       " 'statsmodels',\n",
       " '拡張分析',\n",
       " 'augmentedanalitics',\n",
       " '論文解説']"
      ]
     },
     "execution_count": 57,
     "metadata": {},
     "output_type": "execute_result"
    }
   ],
   "source": [
    "[tpl[0] for tpl in model.wv.most_similar('機械学習')]"
   ]
  },
  {
   "cell_type": "code",
   "execution_count": 56,
   "metadata": {},
   "outputs": [
    {
     "data": {
      "text/plain": [
       "[('functionalprogramming', 0.8857020139694214),\n",
       " ('関数合成', 0.8789885640144348),\n",
       " ('internetexplorer', 0.8745540976524353),\n",
       " ('pipe', 0.8676517605781555),\n",
       " ('elm-review', 0.8639591336250305),\n",
       " ('elmer', 0.7788057327270508),\n",
       " ('caniuse', 0.7356892824172974),\n",
       " ('ie11', 0.7347599864006042),\n",
       " ('animation', 0.684481680393219),\n",
       " ('frontend', 0.6611098051071167)]"
      ]
     },
     "execution_count": 56,
     "metadata": {},
     "output_type": "execute_result"
    }
   ],
   "source": [
    "model.wv.most_similar('elm')"
   ]
  },
  {
   "cell_type": "code",
   "execution_count": 70,
   "metadata": {},
   "outputs": [
    {
     "data": {
      "text/plain": [
       "[('音声処理', 0.8429374694824219),\n",
       " ('ランダムフォレスト', 0.8065807819366455),\n",
       " ('formula1', 0.8005763292312622),\n",
       " ('勾配ブースティング', 0.7914688587188721),\n",
       " ('交互作用', 0.7776237726211548),\n",
       " ('音声強調', 0.7754710912704468),\n",
       " ('scipy', 0.7659810781478882),\n",
       " ('googleadwords', 0.7613731622695923),\n",
       " ('超解像', 0.7584062218666077),\n",
       " ('sklearn', 0.7562590837478638)]"
      ]
     },
     "execution_count": 70,
     "metadata": {},
     "output_type": "execute_result"
    }
   ],
   "source": [
    "model.wv.most_similar(positive=['python', \"機械学習\"])"
   ]
  },
  {
   "cell_type": "code",
   "execution_count": 74,
   "metadata": {},
   "outputs": [
    {
     "data": {
      "text/plain": [
       "[('elm-review', 0.8832534551620483),\n",
       " ('関数合成', 0.7859140634536743),\n",
       " ('pipe', 0.7728371024131775),\n",
       " ('webworker', 0.7684996724128723),\n",
       " ('suncalc', 0.7666928768157959),\n",
       " ('実況中継', 0.7608648538589478),\n",
       " ('elm', 0.7596915364265442),\n",
       " ('stimulus', 0.7511614561080933),\n",
       " ('作曲', 0.7468655109405518),\n",
       " ('webview2', 0.743710994720459)]"
      ]
     },
     "execution_count": 74,
     "metadata": {},
     "output_type": "execute_result"
    }
   ],
   "source": [
    "model.wv.most_similar(positive=['javascript', \"functionalprogramming\"])"
   ]
  },
  {
   "cell_type": "code",
   "execution_count": 36,
   "metadata": {},
   "outputs": [
    {
     "data": {
      "text/plain": [
       "[('cats', 0.956039309501648),\n",
       " ('http4s', 0.9476245641708374),\n",
       " ('sbt', 0.9147008061408997),\n",
       " ('pac4j', 0.9019726514816284),\n",
       " ('bigdata', 0.8832607865333557),\n",
       " ('エラーハンドリング', 0.8705583810806274),\n",
       " ('akka', 0.8525885939598083),\n",
       " ('playframework', 0.7916499376296997),\n",
       " ('openjdk', 0.7824023365974426),\n",
       " ('spark', 0.7186453342437744)]"
      ]
     },
     "execution_count": 36,
     "metadata": {},
     "output_type": "execute_result"
    }
   ],
   "source": [
    "model.wv.most_similar('scala')"
   ]
  },
  {
   "cell_type": "code",
   "execution_count": 37,
   "metadata": {},
   "outputs": [
    {
     "data": {
      "text/plain": [
       "[('twig', 0.924010157585144),\n",
       " ('宇宙船演算子', 0.9136295318603516),\n",
       " ('クイズ', 0.904780924320221),\n",
       " ('realpath', 0.903666615486145),\n",
       " ('smarty', 0.9019123315811157),\n",
       " ('pdo', 0.8918749690055847),\n",
       " ('larabel', 0.8899241089820862),\n",
       " ('シリアライズ', 0.8846566081047058),\n",
       " ('mcrypt', 0.8843409419059753),\n",
       " ('入力フォーム', 0.8840829133987427)]"
      ]
     },
     "execution_count": 37,
     "metadata": {},
     "output_type": "execute_result"
    }
   ],
   "source": [
    "model.wv.most_similar('php')"
   ]
  },
  {
   "cell_type": "code",
   "execution_count": 40,
   "metadata": {},
   "outputs": [
    {
     "data": {
      "text/plain": [
       "[('component', 0.9182481169700623),\n",
       " ('webvitals', 0.9172523021697998),\n",
       " ('react-draggable', 0.916003406047821),\n",
       " ('react-infinite-scroller', 0.9066747426986694),\n",
       " ('react-color', 0.9012477397918701),\n",
       " ('無限スクロール', 0.8961509466171265),\n",
       " ('immer', 0.8947430849075317),\n",
       " ('immutable-js', 0.8842179179191589),\n",
       " ('react-dnd', 0.8682639598846436),\n",
       " ('react-dnd-html5-backend', 0.8657857775688171)]"
      ]
     },
     "execution_count": 40,
     "metadata": {},
     "output_type": "execute_result"
    }
   ],
   "source": [
    "model.wv.most_similar('react')"
   ]
  },
  {
   "cell_type": "markdown",
   "metadata": {},
   "source": [
    "# 中心性"
   ]
  },
  {
   "cell_type": "code",
   "execution_count": 48,
   "metadata": {},
   "outputs": [
    {
     "data": {
      "text/plain": [
       "[('python', 0.28000768071879917),\n",
       " ('初心者', 0.2320177123993606),\n",
       " ('javascript', 0.21932383647891893),\n",
       " ('aws', 0.178129586501316),\n",
       " ('ruby', 0.1487758407289078),\n",
       " ('docker', 0.1469139551312583),\n",
       " ('rails', 0.12914160411633122),\n",
       " ('php', 0.12821083523259985),\n",
       " ('node.js', 0.1281337032843693),\n",
       " ('react', 0.11173280219079293)]"
      ]
     },
     "execution_count": 48,
     "metadata": {},
     "output_type": "execute_result"
    }
   ],
   "source": [
    "centrality_dict = nx.eigenvector_centrality(graph)\n",
    "sorted(centrality_dict.items(), key=lambda x: -x[1])[:10]"
   ]
  }
 ],
 "metadata": {
  "kernelspec": {
   "display_name": "Python 3",
   "language": "python",
   "name": "python3"
  },
  "language_info": {
   "codemirror_mode": {
    "name": "ipython",
    "version": 3
   },
   "file_extension": ".py",
   "mimetype": "text/x-python",
   "name": "python",
   "nbconvert_exporter": "python",
   "pygments_lexer": "ipython3",
   "version": "3.7.5"
  }
 },
 "nbformat": 4,
 "nbformat_minor": 4
}
